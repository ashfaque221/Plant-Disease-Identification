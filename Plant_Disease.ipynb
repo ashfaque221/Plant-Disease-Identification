{
  "nbformat": 4,
  "nbformat_minor": 0,
  "metadata": {
    "colab": {
      "name": "Plant Disease.ipynb",
      "provenance": [],
      "collapsed_sections": [],
      "authorship_tag": "ABX9TyPKvrnuMTVAShW1JUvJ37Bj",
      "include_colab_link": true
    },
    "kernelspec": {
      "name": "python3",
      "display_name": "Python 3"
    }
  },
  "cells": [
    {
      "cell_type": "markdown",
      "metadata": {
        "id": "view-in-github",
        "colab_type": "text"
      },
      "source": [
        "<a href=\"https://colab.research.google.com/github/ashfaque221/Plant-Disease-Identification/blob/master/Plant_Disease.ipynb\" target=\"_parent\"><img src=\"https://colab.research.google.com/assets/colab-badge.svg\" alt=\"Open In Colab\"/></a>"
      ]
    },
    {
      "cell_type": "code",
      "metadata": {
        "id": "1KENgAYzq08f",
        "outputId": "7c964f63-59f1-433c-e480-a74dd08889eb",
        "colab": {
          "base_uri": "https://localhost:8080/",
          "height": 179
        }
      },
      "source": [
        "!git clone https://github.com/ashfaque221/Plant-Disease-Identification.git\n",
        "%cd Plant-Disease-Identification"
      ],
      "execution_count": 1,
      "outputs": [
        {
          "output_type": "stream",
          "text": [
            "Cloning into 'Plant-Disease-Identification'...\n",
            "remote: Enumerating objects: 20648, done.\u001b[K\n",
            "remote: Counting objects: 100% (20648/20648), done.\u001b[K\n",
            "remote: Compressing objects: 100% (20645/20645), done.\u001b[K\n",
            "remote: Total 20648 (delta 1), reused 20648 (delta 1), pack-reused 0\u001b[K\n",
            "Receiving objects: 100% (20648/20648), 323.51 MiB | 19.47 MiB/s, done.\n",
            "Resolving deltas: 100% (1/1), done.\n",
            "Checking out files: 100% (41281/41281), done.\n",
            "/content/Plant-Disease-Identification\n"
          ],
          "name": "stdout"
        }
      ]
    },
    {
      "cell_type": "code",
      "metadata": {
        "id": "qbKFv0WnrdKY",
        "outputId": "3cd37f12-5622-4a29-ef25-b1f0e8a84694",
        "colab": {
          "base_uri": "https://localhost:8080/",
          "height": 739
        }
      },
      "source": [
        "%run PlantDiseaseDetection.py"
      ],
      "execution_count": null,
      "outputs": [
        {
          "output_type": "stream",
          "text": [
            "[INFO] Loading images ...\n",
            "[INFO] Processing Tomato_healthy ...\n",
            "[INFO] Processing Tomato__Target_Spot ...\n",
            "[INFO] Processing Tomato_Late_blight ...\n",
            "[INFO] Processing Potato___Late_blight ...\n",
            "[INFO] Processing Pepper__bell___Bacterial_spot ...\n",
            "[INFO] Processing PlantVillage ...\n",
            "[INFO] Processing Tomato_Leaf_Mold ...\n",
            "[INFO] Processing Tomato_Spider_mites_Two_spotted_spider_mite ...\n",
            "[INFO] Processing Potato___healthy ...\n",
            "[INFO] Processing Tomato_Bacterial_spot ...\n",
            "[INFO] Processing Tomato__Tomato_mosaic_virus ...\n",
            "[INFO] Processing Potato___Early_blight ...\n",
            "[INFO] Processing Tomato__Tomato_YellowLeaf__Curl_Virus ...\n",
            "[INFO] Processing Tomato_Early_blight ...\n",
            "[INFO] Processing Tomato_Septoria_leaf_spot ...\n",
            "[INFO] Processing Pepper__bell___healthy ...\n",
            "[INFO] Image loading completed\n",
            "['Pepper__bell___Bacterial_spot' 'Pepper__bell___healthy'\n",
            " 'Potato___Early_blight' 'Potato___Late_blight' 'Potato___healthy'\n",
            " 'Tomato_Bacterial_spot' 'Tomato_Early_blight' 'Tomato_Late_blight'\n",
            " 'Tomato_Leaf_Mold' 'Tomato_Septoria_leaf_spot'\n",
            " 'Tomato_Spider_mites_Two_spotted_spider_mite' 'Tomato__Target_Spot'\n",
            " 'Tomato__Tomato_YellowLeaf__Curl_Virus' 'Tomato__Tomato_mosaic_virus'\n",
            " 'Tomato_healthy']\n",
            "[INFO] Spliting data to train, test\n",
            "[INFO] training network...\n",
            "WARNING:tensorflow:From /content/Plant-Disease-Identification/PlantDiseaseDetection.py:151: Model.fit_generator (from tensorflow.python.keras.engine.training) is deprecated and will be removed in a future version.\n",
            "Instructions for updating:\n",
            "Please use Model.fit, which supports generators.\n"
          ],
          "name": "stdout"
        },
        {
          "output_type": "stream",
          "text": [
            "WARNING:tensorflow:From /content/Plant-Disease-Identification/PlantDiseaseDetection.py:151: Model.fit_generator (from tensorflow.python.keras.engine.training) is deprecated and will be removed in a future version.\n",
            "Instructions for updating:\n",
            "Please use Model.fit, which supports generators.\n"
          ],
          "name": "stderr"
        },
        {
          "output_type": "stream",
          "text": [
            "Epoch 1/25\n",
            "73/73 [==============================] - 498s 7s/step - loss: 0.2070 - accuracy: 0.4040 - val_loss: 0.4450 - val_accuracy: 0.0558\n",
            "Epoch 2/25\n",
            "73/73 [==============================] - 498s 7s/step - loss: 0.1716 - accuracy: 0.5127 - val_loss: 0.7960 - val_accuracy: 0.1117\n",
            "Epoch 3/25\n",
            "43/73 [================>.............] - ETA: 3:11 - loss: 0.1708 - accuracy: 0.5262"
          ],
          "name": "stdout"
        }
      ]
    },
    {
      "cell_type": "code",
      "metadata": {
        "id": "cxCRdDTNtZmY",
        "outputId": "bddcff79-00ba-44dc-c9b0-7c65290a98b6",
        "colab": {
          "base_uri": "https://localhost:8080/",
          "height": 35
        }
      },
      "source": [
        "%cd /content/Plant-Disease-Identification"
      ],
      "execution_count": 27,
      "outputs": [
        {
          "output_type": "stream",
          "text": [
            "/content/Plant-Disease-Identification\n"
          ],
          "name": "stdout"
        }
      ]
    },
    {
      "cell_type": "code",
      "metadata": {
        "id": "pEYpz32Avlth",
        "outputId": "05aaa7e3-4dda-4549-d947-7da80f2804ae",
        "colab": {
          "base_uri": "https://localhost:8080/",
          "height": 35
        }
      },
      "source": [
        "!pwd"
      ],
      "execution_count": 36,
      "outputs": [
        {
          "output_type": "stream",
          "text": [
            "/content/Plant-Disease-Identification\n"
          ],
          "name": "stdout"
        }
      ]
    }
  ]
}